{
  "nbformat": 4,
  "nbformat_minor": 0,
  "metadata": {
    "colab": {
      "provenance": [],
      "authorship_tag": "ABX9TyMbO4rGV8sBDH8LhCM2OOeF",
      "include_colab_link": true
    },
    "kernelspec": {
      "name": "python3",
      "display_name": "Python 3"
    },
    "language_info": {
      "name": "python"
    }
  },
  "cells": [
    {
      "cell_type": "markdown",
      "metadata": {
        "id": "view-in-github",
        "colab_type": "text"
      },
      "source": [
        "<a href=\"https://colab.research.google.com/github/marcelosi10/PesquisasCelulasTronco/blob/main/PesquisaCelulasTronco.ipynb\" target=\"_parent\"><img src=\"https://colab.research.google.com/assets/colab-badge.svg\" alt=\"Open In Colab\"/></a>"
      ]
    },
    {
      "cell_type": "code",
      "execution_count": 18,
      "metadata": {
        "id": "eGm4di7NNX-4"
      },
      "outputs": [],
      "source": [
        "!pip install -q -U google-generativeai"
      ]
    },
    {
      "cell_type": "code",
      "source": [
        "import google.generativeai as genai\n",
        "\n",
        "from google.colab import userdata\n",
        "GOOGLE_API_KEY = userdata.get('secret_key')\n",
        "genai.configure(api_key=GOOGLE_API_KEY)"
      ],
      "metadata": {
        "id": "QN7wbI4DNgZv"
      },
      "execution_count": 19,
      "outputs": []
    },
    {
      "cell_type": "code",
      "source": [
        "generation_config = {\n",
        "    \"candidate_count\": 1,\n",
        "    \"temperature\": 0.5,\n",
        "}"
      ],
      "metadata": {
        "id": "8WdOfxfCNopW"
      },
      "execution_count": 20,
      "outputs": []
    },
    {
      "cell_type": "code",
      "source": [
        "safety_settings = {\n",
        "    \"HARASSMENT\":\"BLOCK_NONE\",\n",
        "    \"HATE\": \"BLOCK_NONE\",\n",
        "    \"SEXUAL\": \"BLOCK_NONE\",\n",
        "    \"DANGEROUS\": \"BLOCK_NONE\",\n",
        "}"
      ],
      "metadata": {
        "id": "2MK3TNvDN0jv"
      },
      "execution_count": 21,
      "outputs": []
    },
    {
      "cell_type": "code",
      "source": [
        "\n",
        "def calcular_percentual_avanco_pesquisa_celulas_tronco(estado):\n",
        "\n",
        "\n",
        "  # Inicializa o modelo generativo de linguagem.\n",
        "\n",
        "  modelo = genai.GenerativeModel(model_name=\"gemini-1.0-pro\",\n",
        "                              generation_config=generation_config,\n",
        "                              safety_settings=safety_settings)\n",
        "\n",
        "  # Atribui à variável resposta o valor da string informada pelo usuário.\n",
        "  resposta = modelo.generate_content(f'Informe o Estado: \"{estado}\"')\n",
        "\n",
        "  # Gera a resposta.\n",
        "  resposta = modelo.generate_content(estado)\n",
        "  print(resposta.text)\n",
        "\n",
        "# Input da pergunta através do prompt.\n",
        "prompt = input(\"Informe a Descrição de Estudo Genético por País ou Estado: \")\n",
        "estado = (prompt)\n",
        "resultado = calcular_percentual_avanco_pesquisa_celulas_tronco(estado)\n",
        "print(resultado)"
      ],
      "metadata": {
        "colab": {
          "base_uri": "https://localhost:8080/",
          "height": 367
        },
        "id": "osow44h1fXyd",
        "outputId": "1b96df10-3f87-45e0-9aa4-3b71067dd667"
      },
      "execution_count": 69,
      "outputs": [
        {
          "output_type": "stream",
          "name": "stdout",
          "text": [
            "Informe a Descrição de Estudo Genético por País ou Estado: Quais os tipos de estudos com células tronco e efetue o cálculo e me exiba os avanços nas pesquisas em percentual % no ano de 2023 para o Brasil, exiba os resultados numa tabela estruturada.\n",
            "**Tipos de Estudos com Células Tronco**\n",
            "\n",
            "* **Estudos Básicos:** Focam na compreensão dos mecanismos biológicos das células tronco, incluindo sua diferenciação, proliferação e auto-renovação.\n",
            "* **Estudos Pré-Clínicos:** Testam a segurança e eficácia das células tronco em modelos animais antes dos ensaios clínicos.\n",
            "* **Estudos Clínicos:** Envolvem o uso de células tronco em humanos para tratar ou prevenir doenças.\n",
            "\n",
            "**Avanços nas Pesquisas com Células Tronco no Brasil em 2023**\n",
            "\n",
            "| Tipo de Estudo | Avanços | Porcentagem (%) |\n",
            "|---|---|---|\n",
            "| **Estudos Básicos** | Descoberta de novos marcadores de células tronco | 15 |\n",
            "| **Estudos Pré-Clínicos** | Desenvolvimento de novas técnicas para melhorar a sobrevivência e diferenciação das células tronco | 20 |\n",
            "| **Estudos Clínicos** | Início de ensaios clínicos para tratar doenças neurodegenerativas e cardiovasculares | 25 |\n",
            "| **Aplicações Terapêuticas** | Avanços na regeneração de tecidos e órgãos | 30 |\n",
            "| **Regulamentação e Ética** | Estabelecimento de diretrizes éticas e regulatórias para o uso de células tronco | 10 |\n",
            "\n",
            "**Total** | | **100%** |\n",
            "None\n"
          ]
        }
      ]
    }
  ]
}